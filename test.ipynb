{
 "cells": [
  {
   "cell_type": "code",
   "execution_count": 1,
   "metadata": {},
   "outputs": [
    {
     "name": "stdout",
     "output_type": "stream",
     "text": [
      "huhu\n"
     ]
    }
   ],
   "source": [
    "using SearchLight\nusing SearchLightPostgreSQL\nSearchLight.connect(SearchLight.Configuration.load())\nSearchLight.query("DROP SCHEMA public CASCADE")\nSearchLight.query("CREATE SCHEMA public")"
   ]
  }
 ],
 "metadata": {
  "kernelspec": {
   "display_name": "Julia 1.10.3",
   "language": "julia",
   "name": "julia-1.10"
  },
  "language_info": {
   "file_extension": ".jl",
   "mimetype": "application/julia",
   "name": "julia",
   "version": "1.10.3"
  }
 },
 "nbformat": 4,
 "nbformat_minor": 2
}
